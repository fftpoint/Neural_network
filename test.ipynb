{
 "cells": [
  {
   "cell_type": "raw",
   "metadata": {},
   "source": [
    "y = 1jupyter\n",
    "print(y)"
   ]
  }
 ],
 "metadata": {
  "kernelspec": {
   "display_name": "Python 3.0.0",
   "name": "python3003fb719e4d8fe43e59738951759e7e788"
  },
  "language_info": {
   "name": "python",
   "nbconvert_exporter": "python",
   "version": "3.0.0"
  },
  "orig_nbformat": 2
 },
 "nbformat": 4,
 "nbformat_minor": 2
}