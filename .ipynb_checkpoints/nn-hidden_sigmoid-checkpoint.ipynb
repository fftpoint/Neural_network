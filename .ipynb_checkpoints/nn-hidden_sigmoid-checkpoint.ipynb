{
 "cells": [
  {
   "cell_type": "code",
   "execution_count": null,
   "metadata": {},
   "outputs": [],
   "source": [
    "# Import Packages\n",
    "import tensorflow as tf \n",
    "from tensorflow import keras\n",
    "from tensorflow.keras import layers\n",
    "import numpy as np\n",
    "import matplotlib.pyplot as plt "
   ]
  },
  {
   "cell_type": "code",
   "execution_count": null,
   "metadata": {},
   "outputs": [],
   "source": [
    "# 学習回数\n",
    "epochs=100\n",
    "# 中間層ユニット数\n",
    "num_hidden = 3\n",
    "\n",
    "# データ生成\n",
    "x = np.arange(-10, 10, 0.1) \n",
    "# input_data = (x - x.min()) / (x.max() - x.min()) # 正規化\n",
    "input_data = x  / x.max() # \n",
    "# input_data = (x - x.mean()) / x.std() # 標準化\n",
    "training_data = 4 * input_data ** 3 - 2 * input_data # 目標関数"
   ]
  },
  {
   "cell_type": "code",
   "execution_count": null,
   "metadata": {},
   "outputs": [],
   "source": [
    "# 教師データグラフ出力\n",
    "plt.title('train_data')\n",
    "plt.plot(input_data, training_data, linestyle=\"dashed\")\n",
    "plt.savefig('images/train_data.png')\n",
    "plt.show()"
   ]
  },
  {
   "cell_type": "code",
   "execution_count": null,
   "metadata": {},
   "outputs": [],
   "source": [
    "# モデル生成\n",
    "model = keras.Sequential(\n",
    "    [   \n",
    "        layers.InputLayer(input_shape=(1,)),\n",
    "        layers.Dense(num_hidden, activation=\"sigmoid\"),\n",
    "        layers.Dense(1, activation=\"linear\")\n",
    "    ]\n",
    ")\n",
    "model.summary()"
   ]
  },
  {
   "cell_type": "code",
   "execution_count": null,
   "metadata": {},
   "outputs": [],
   "source": [
    "# 学習方法\n",
    "model.compile(\n",
    "    loss='mse', # 誤差関数、平均二乗誤差\n",
    "    optimizer=tf.keras.optimizers.SGD(learning_rate=0.1), # 確率的勾配降下法\n",
    "    metrics='mse' # 評価関数、平均二乗誤差\n",
    ")"
   ]
  },
  {
   "cell_type": "code",
   "execution_count": null,
   "metadata": {
    "tags": []
   },
   "outputs": [],
   "source": [
    "# 学習\n",
    "print(\"Fit model on training data\")\n",
    "history = model.fit(\n",
    "    input_data,\n",
    "    training_data,\n",
    "    batch_size=1,\n",
    "    epochs=epochs\n",
    ")"
   ]
  },
  {
   "cell_type": "code",
   "execution_count": null,
   "metadata": {},
   "outputs": [],
   "source": [
    "# 検証\n",
    "print(\"Evaluate on test data\")\n",
    "results = model.predict(input_data)\n",
    "# print(\"test loss, test acc:\", results)"
   ]
  },
  {
   "cell_type": "code",
   "execution_count": null,
   "metadata": {},
   "outputs": [],
   "source": [
    "# 誤差関数グラフ出力\n",
    "plt.plot(history.history['loss'])\n",
    "plt.title('model loss')\n",
    "plt.xlabel('epoch')\n",
    "plt.ylabel('loss')\n",
    "plt.savefig('images/model_loss-epochs_' + str(epochs) +'-num_hidden_' + str(num_hidden) + '.png')\n",
    "plt.show()"
   ]
  },
  {
   "cell_type": "code",
   "execution_count": null,
   "metadata": {},
   "outputs": [],
   "source": [
    "# 結果グラフ出力\n",
    "plt.title('result epochs=' + str(epochs))\n",
    "plt.plot(input_data, training_data, linestyle=\"dashed\", label=\"training_data\")\n",
    "plt.plot(input_data, results, marker=\"+\", label=\"results\")\n",
    "plt.xlabel('x')\n",
    "plt.ylabel('y')\n",
    "plt.savefig('images/result-epochs_' + str(epochs) +'-num_hidden_' + str(num_hidden) + '.png')\n",
    "plt.legend(loc = 'best')\n",
    "plt.show\n"
   ]
  }
 ],
 "metadata": {
  "kernelspec": {
   "display_name": "Python 3",
   "language": "python",
   "name": "python3"
  },
  "language_info": {
   "codemirror_mode": {
    "name": "ipython",
    "version": 3
   },
   "file_extension": ".py",
   "mimetype": "text/x-python",
   "name": "python",
   "nbconvert_exporter": "python",
   "pygments_lexer": "ipython3",
   "version": "3.8.2"
  }
 },
 "nbformat": 4,
 "nbformat_minor": 2
}
